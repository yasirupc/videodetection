{
 "cells": [
  {
   "cell_type": "code",
   "execution_count": null,
   "id": "50ed85bd",
   "metadata": {},
   "outputs": [],
   "source": [
    "# hello guys, welcome back to my channel \n",
    "# today we work with object detection using open cv for video object detection \n",
    "# if you are new to my channe please subscribe for more video\n",
    "# lets jump to coding "
   ]
  },
  {
   "cell_type": "code",
   "execution_count": null,
   "id": "ad82492f",
   "metadata": {},
   "outputs": [],
   "source": [
    "# library \n",
    "import cv2 as cv \n",
    "import matplotlib.pyplot as plt\n"
   ]
  },
  {
   "cell_type": "code",
   "execution_count": null,
   "id": "9b5b2e3a",
   "metadata": {},
   "outputs": [],
   "source": [
    "# load the file , i will provide the link down and download from it\n",
    "config_file ='C://Users//upc//Desktop//Python//Object detection//Youtube video//ssd//ssd_mobilenet.pbtxt'\n",
    "frozen_model ='C://Users//upc//Desktop//Python//Object detection//Youtube video//frozen_inference_graph//frozen_inference_graph.pb'"
   ]
  },
  {
   "cell_type": "code",
   "execution_count": null,
   "id": "bd1bf07f",
   "metadata": {},
   "outputs": [],
   "source": [
    "# load the model \n",
    "model= cv.dnn_DetectionModel(frozen_model,config_file)"
   ]
  },
  {
   "cell_type": "code",
   "execution_count": null,
   "id": "3710b785",
   "metadata": {},
   "outputs": [],
   "source": [
    "# define the classes which we are going to detect, i will provide the file \n",
    "classlables=[]\n",
    "file_name='C://Users//upc//Desktop//Python//Object detection//Youtube video//Lables.txt'\n",
    "with open(file_name,'rt')as fpt:\n",
    "    classLables=fpt.read().rstrip('\\n').split('\\n')"
   ]
  },
  {
   "cell_type": "code",
   "execution_count": null,
   "id": "f370dc53",
   "metadata": {},
   "outputs": [],
   "source": [
    "# lets see the class how many class we can detect from coco lables\n",
    "print(len(classLables))"
   ]
  },
  {
   "cell_type": "code",
   "execution_count": null,
   "id": "c61fcb7f",
   "metadata": {},
   "outputs": [],
   "source": [
    "# now see which class name we can have inthe file\n",
    "print(classLables)"
   ]
  },
  {
   "cell_type": "code",
   "execution_count": null,
   "id": "f19c2e8e",
   "metadata": {},
   "outputs": [],
   "source": [
    "# define the configuration for these object\n",
    "model.setInputSize(320,320)\n",
    "model.setInputScale(1.0/127.5)#255/2=127.5\n",
    "model.setInputMean((127.5, 127.5, 127.5)) #miblenet=[-1,1]\n",
    "model.setInputSwapRB(True)"
   ]
  },
  {
   "cell_type": "code",
   "execution_count": null,
   "id": "399f00f2",
   "metadata": {},
   "outputs": [],
   "source": [
    "# now read the video\n",
    "cap=cv.VideoCapture('C://Users//upc//Desktop//Python//Object detection//Youtube video//01.mp4')"
   ]
  },
  {
   "cell_type": "code",
   "execution_count": null,
   "id": "0968e710",
   "metadata": {},
   "outputs": [],
   "source": [
    "# now check the video work or not \n",
    "if not cap.isOpened():\n",
    "    cap=cv.VideoCapture(0)\n",
    "if not cap.isOpened():\n",
    "    raise IOError(\"cannot open the video\")\n",
    "font_scale=3\n",
    "font=cv.FONT_HERSHEY_PLAIN\n",
    "\n",
    "while True:\n",
    "    ret,frame = cap.read()\n",
    "    \n",
    "    ClassIndex, confidece, bbox = model.detect(frame,confThreshold=0.55)\n",
    "    \n",
    "    print(ClassIndex)\n",
    "    if(len(ClassIndex)!=0):\n",
    "        for ClassInd, conf, boxes in zip(ClassIndex.flatten(), confidece.flatten(), bbox):\n",
    "            if(ClassInd<=80):\n",
    "                #cv2.rectangle(frame, (x,y),(x+w , y+h),(255,0,0),2)\n",
    "                #cv2.putText(img, text, (text_offset_x, text_offset_y), font, fontScale = font_scale, color = (0,0,0), thickness=1) \n",
    "                cv.rectangle(frame,boxes,(255,0,0),2)\n",
    "                cv.putText(frame,classLables[ClassInd-1],(boxes[0]+10,boxes[1]+40), font, fontScale=font_scale,color=(0,255,0),thickness=3)\n",
    "                \n",
    "                \n",
    "    cv.imshow('object Detection Tutorial',frame)\n",
    "    \n",
    "    if cv.waitKey(2) & 0XFF == ord('q'):\n",
    "        break\n",
    "        \n",
    "cap.release()\n",
    "cv.destroyAllWindows()\n",
    "                             \n",
    "                             "
   ]
  },
  {
   "cell_type": "code",
   "execution_count": null,
   "id": "5f28cbd8",
   "metadata": {},
   "outputs": [],
   "source": [
    "#thank you for your watching \n",
    "# please subscribe and share and like and comments \n",
    "# see you in the next video \n",
    "# bye bye \n"
   ]
  }
 ],
 "metadata": {
  "kernelspec": {
   "display_name": "Python 3 (ipykernel)",
   "language": "python",
   "name": "python3"
  },
  "language_info": {
   "codemirror_mode": {
    "name": "ipython",
    "version": 3
   },
   "file_extension": ".py",
   "mimetype": "text/x-python",
   "name": "python",
   "nbconvert_exporter": "python",
   "pygments_lexer": "ipython3",
   "version": "3.9.12"
  }
 },
 "nbformat": 4,
 "nbformat_minor": 5
}
